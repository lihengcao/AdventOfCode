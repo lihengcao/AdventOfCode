{
  "nbformat": 4,
  "nbformat_minor": 0,
  "metadata": {
    "colab": {
      "name": "coding.ipynb",
      "provenance": [],
      "collapsed_sections": [],
      "authorship_tag": "ABX9TyNh5eTpFAXjS6lQlb8h0rSb"
    },
    "kernelspec": {
      "name": "python3",
      "display_name": "Python 3"
    }
  },
  "cells": [
    {
      "cell_type": "markdown",
      "metadata": {
        "id": "MRxLVcJKOkuh"
      },
      "source": [
        "advent of code"
      ]
    },
    {
      "cell_type": "code",
      "metadata": {
        "id": "fBgWYrd4OURl"
      },
      "source": [
        "with open(\"input\",'r') as f:\n",
        "    arr = f.read().splitlines()\n",
        "# print(arr)\n",
        "arr = [int(e) for e in arr]\n",
        "preamble = []\n",
        "\n",
        "# part 1\n",
        "def sum2(arr_, target):\n",
        "    # slow\n",
        "    for i in range(len(arr_)):\n",
        "        for j in range(i+1,len(arr_)):\n",
        "            if arr_[i] + arr_[j] == target:\n",
        "                return True\n",
        "    return False\n",
        "\n",
        "# part 2\n",
        "def contigsum(target):\n",
        "    l = 0\n",
        "    r = 1\n",
        "    s = arr[l] + arr[r]\n",
        "    while l < r < len(arr):\n",
        "        if s == target:\n",
        "            return l,r\n",
        "        if s < target:\n",
        "            r += 1\n",
        "        else:\n",
        "            if l + 1 == r:\n",
        "                l += 1\n",
        "                r += 1\n",
        "            else:\n",
        "                l += 1\n",
        "        s = sum(arr[l:r])\n",
        "\n",
        "a = 0\n",
        "for line_i, line in enumerate(arr):\n",
        "    if len(preamble) < 25:\n",
        "        preamble.append(int(line))\n",
        "    else:\n",
        "        # preamble.pop(0)\n",
        "        if not sum2(preamble, int(line)):\n",
        "            a = int(line) # part 2\n",
        "            # print(line) # part 1\n",
        "            break\n",
        "        else:\n",
        "            preamble.pop(0)\n",
        "            preamble.append(int(line))\n",
        "# part 1\n",
        "# else:\n",
        "#     print('no res')\n",
        "\n",
        "a = contigsum(a)\n",
        "a = arr[a[0]:a[1]]\n",
        "print(min(a) + max(a))"
      ],
      "execution_count": null,
      "outputs": []
    }
  ]
}
