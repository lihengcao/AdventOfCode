{
  "nbformat": 4,
  "nbformat_minor": 0,
  "metadata": {
    "colab": {
      "name": "coding.ipynb",
      "provenance": [],
      "collapsed_sections": [],
      "authorship_tag": "ABX9TyNhm/Z1i9HumweUoG8LG1xs"
    },
    "kernelspec": {
      "name": "python3",
      "display_name": "Python 3"
    }
  },
  "cells": [
    {
      "cell_type": "markdown",
      "metadata": {
        "id": "MRxLVcJKOkuh"
      },
      "source": [
        "advent of code"
      ]
    },
    {
      "cell_type": "code",
      "metadata": {
        "id": "fBgWYrd4OURl",
        "colab": {
          "base_uri": "https://localhost:8080/"
        },
        "outputId": "efeb8284-297d-42ed-8eee-921ce4b95c98"
      },
      "source": [
        "res = 0\n",
        "\n",
        "with open(\"input\",'r') as f:\n",
        "    arr = f.read().splitlines()\n",
        "\n",
        "# print(arr)\n",
        "\n",
        "s = {}\n",
        "times = 0\n",
        "for line_i, line in enumerate(arr):\n",
        "    if line == '':\n",
        "        for key, val in s.items():\n",
        "            if val == times:\n",
        "                res += 1\n",
        "        s = {}\n",
        "        times = 0\n",
        "    else:\n",
        "        times += 1\n",
        "        for c in line:\n",
        "            if c not in s:\n",
        "                s[c] = 1\n",
        "            else:\n",
        "                s[c] += 1\n",
        "else:\n",
        "    for key, val in s.items():\n",
        "            if val == times:\n",
        "                res += 1\n",
        "\n",
        "print(res)"
      ],
      "execution_count": null,
      "outputs": [
        {
          "output_type": "stream",
          "text": [
            "3550\n"
          ],
          "name": "stdout"
        }
      ]
    }
  ]
}
