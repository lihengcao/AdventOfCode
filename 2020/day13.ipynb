{
  "nbformat": 4,
  "nbformat_minor": 0,
  "metadata": {
    "colab": {
      "name": "coding.ipynb",
      "provenance": [],
      "collapsed_sections": [],
      "authorship_tag": "ABX9TyPvhv+tt0E/+nLJ26hFn4Xv"
    },
    "kernelspec": {
      "name": "python3",
      "display_name": "Python 3"
    }
  },
  "cells": [
    {
      "cell_type": "markdown",
      "metadata": {
        "id": "MRxLVcJKOkuh"
      },
      "source": [
        "advent of code"
      ]
    },
    {
      "cell_type": "code",
      "metadata": {
        "colab": {
          "base_uri": "https://localhost:8080/"
        },
        "id": "EFAXsYWa6O70",
        "outputId": "9439de94-04e4-4940-810f-92e5fd73fa42"
      },
      "source": [
        "# input\n",
        "with open(\"input\",'r') as f:\n",
        "    arr = f.read().splitlines()\n",
        "\n",
        "\n",
        "arr= [e for e in arr if e != '']\n",
        "time = int(arr[0])\n",
        "buses = [int(e) if e.isdigit() else 'x' for e in arr[1].split(',')]\n",
        "\n",
        "# print(buses)\n",
        "\n",
        "'''\n",
        "# part 1\n",
        "# arr= [e for e in arr if e != '']\n",
        "# time = int(arr[0])\n",
        "# buses = [int(e) if e.isdigit() else 'x' for e in arr[1].split(',')]\n",
        "\n",
        "# print(buses)\n",
        "# minimum = float('inf')\n",
        "# bus = 0\n",
        "# for e in buses:\n",
        "#     if e == 'x':\n",
        "#         continue\n",
        "    \n",
        "#     if e - time % e < minimum:\n",
        "#         minimum = e - time  % e\n",
        "#         bus = e\n",
        "# print(minimum * bus)\n",
        "'''\n",
        "\n",
        "# too slow\n",
        "# minimum = min([e for e in buses if e != 'x'])\n",
        "# t = 1\n",
        "# while True:\n",
        "#     for i in range(len(buses)):\n",
        "#         if buses[i] != 'x':\n",
        "#             if (t+i) % buses[i] != 0:\n",
        "#                 break\n",
        "#     else:\n",
        "#         print(t)\n",
        "#         break\n",
        "#     t += minimum\n",
        "\n",
        "# convert these to system of equations and then extract t from solution\n",
        "a = ord('a')\n",
        "for i in range(len(buses)):\n",
        "    if buses[i] != 'x':\n",
        "        print(f'{chr(a)},{buses[i]}+{i}')\n",
        "        a += 1\n"
      ],
      "execution_count": 33,
      "outputs": [
        {
          "output_type": "stream",
          "text": [
            "a,41+0\n",
            "b,37+35\n",
            "c,379+41\n",
            "d,23+49\n",
            "e,13+54\n",
            "f,17+58\n",
            "g,29+70\n",
            "h,557+72\n",
            "i,19+91\n"
          ],
          "name": "stdout"
        }
      ]
    }
  ]
}