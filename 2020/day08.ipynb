{
  "nbformat": 4,
  "nbformat_minor": 0,
  "metadata": {
    "colab": {
      "name": "coding.ipynb",
      "provenance": [],
      "collapsed_sections": [],
      "authorship_tag": "ABX9TyMDQiYx4SbD31jbbQw+h0G9"
    },
    "kernelspec": {
      "name": "python3",
      "display_name": "Python 3"
    }
  },
  "cells": [
    {
      "cell_type": "markdown",
      "metadata": {
        "id": "MRxLVcJKOkuh"
      },
      "source": [
        "advent of code"
      ]
    },
    {
      "cell_type": "code",
      "metadata": {
        "id": "fBgWYrd4OURl",
        "colab": {
          "base_uri": "https://localhost:8080/"
        },
        "outputId": "221735da-8188-4072-e609-1f41f8731c31"
      },
      "source": [
        "with open(\"input\",'r') as f:\n",
        "    arr = f.read().splitlines()\n",
        "# print(arr)\n",
        "\n",
        "\n",
        "# part 1\n",
        "# runs = [False for e in range(len(arr))]\n",
        "# acc = 0\n",
        "# pc = 0\n",
        "# while True:\n",
        "#     if runs[pc]:\n",
        "#         break\n",
        "#     runs[pc] = True\n",
        "#     cmd, arg = arr[pc].split()\n",
        "#     arg = int(arg)\n",
        "#     if cmd == 'nop':\n",
        "#         pc +=1\n",
        "#     elif cmd == 'acc':\n",
        "#         acc += arg\n",
        "#         pc += 1\n",
        "#     else:\n",
        "#         pc += arg\n",
        "# print(acc)\n",
        "\n",
        "# part 2\n",
        "def run(change):\n",
        "    runs = [False for e in range(len(arr))]\n",
        "    acc = 0\n",
        "    pc = 0\n",
        "    while pc < len(arr):\n",
        "        if runs[pc]:\n",
        "            return False\n",
        "        runs[pc] = True\n",
        "        cmd, arg = arr[pc].split()\n",
        "        arg = int(arg)\n",
        "        if (cmd == 'nop' and change != pc) or (cmd == 'jmp' and change == pc):\n",
        "            pc +=1\n",
        "        elif cmd == 'acc':\n",
        "            acc += arg\n",
        "            pc += 1\n",
        "        elif (cmd == 'jmp' and change != pc) or (cmd =='jmp' and change == pc):\n",
        "            pc += arg\n",
        "    else:\n",
        "        return acc\n",
        "\n",
        "for i in range(len(arr)):\n",
        "    a = run(i)\n",
        "    if a is not False:\n",
        "        print(a)\n",
        "        break"
      ],
      "execution_count": 20,
      "outputs": [
        {
          "output_type": "stream",
          "text": [
            "1403\n"
          ],
          "name": "stdout"
        }
      ]
    }
  ]
}
