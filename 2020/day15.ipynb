{
  "nbformat": 4,
  "nbformat_minor": 0,
  "metadata": {
    "colab": {
      "name": "coding.ipynb",
      "provenance": [],
      "collapsed_sections": [],
      "authorship_tag": "ABX9TyM/ysPdiunL9FAbm5cdYaQ/"
    },
    "kernelspec": {
      "name": "python3",
      "display_name": "Python 3"
    }
  },
  "cells": [
    {
      "cell_type": "markdown",
      "metadata": {
        "id": "MRxLVcJKOkuh"
      },
      "source": [
        "advent of code"
      ]
    },
    {
      "cell_type": "code",
      "metadata": {
        "colab": {
          "base_uri": "https://localhost:8080/"
        },
        "id": "EFAXsYWa6O70",
        "outputId": "38ba6f86-de2b-47dd-e0d1-25d783037b3b"
      },
      "source": [
        "# input\n",
        "with open(\"input\",'r') as f:\n",
        "    arr = f.read().splitlines()\n",
        "\n",
        "arr= [int(e) for e in arr[0].split(',')]\n",
        "# print(arr)\n",
        "\n",
        "orig = len(arr)\n",
        "'''\n",
        "# part 1\n",
        "# ineff\n",
        "# def find(index):\n",
        "#     for i in range(index-1, -1, -1):\n",
        "#         if arr[i] == arr[index]:\n",
        "#             return i\n",
        "\n",
        "#     return None\n",
        "\n",
        "\n",
        "# i = len(arr)-1\n",
        "# runs = 2020 + orig\n",
        "# while i < runs:\n",
        "#     a = find(i)\n",
        "#     # print(a, end=' ')\n",
        "#     if a is not None:\n",
        "#         arr.append(i-a)\n",
        "#         # print(i-a)\n",
        "#     else:\n",
        "#         arr.append(0)\n",
        "#         # print(0)\n",
        "\n",
        "#     i += 1\n",
        "\n",
        "# print(arr[2019])\n",
        "'''\n",
        "\n",
        "# part 2\n",
        "d = {}\n",
        "for i, v in enumerate(arr):\n",
        "    d[v] = i\n",
        "\n",
        "\n",
        "def find(index):\n",
        "    if arr[index] in d:\n",
        "        a = d[arr[index]]\n",
        "        d[arr[index]] = index\n",
        "        return a\n",
        "\n",
        "    d[arr[index]] = index\n",
        "\n",
        "    return None\n",
        "\n",
        "\n",
        "i = len(arr)-1\n",
        "runs = 7 + orig\n",
        "runs = 30000000 + orig\n",
        "while i < runs:\n",
        "    a = find(i)\n",
        "    # print(d)\n",
        "    # print(a, end=' ')\n",
        "    if a is not None:\n",
        "        arr.append(i-a)\n",
        "        # print(i-a)\n",
        "    else:\n",
        "        arr.append(0)\n",
        "        # print(0)\n",
        "    # print(arr[-1])\n",
        "    i += 1\n",
        "\n",
        "print(arr[30000000-1])\n",
        "# print(arr)\n",
        " "
      ],
      "execution_count": 54,
      "outputs": [
        {
          "output_type": "stream",
          "text": [
            "63644\n"
          ],
          "name": "stdout"
        }
      ]
    }
  ]
}