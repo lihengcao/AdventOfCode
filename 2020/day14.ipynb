{
  "nbformat": 4,
  "nbformat_minor": 0,
  "metadata": {
    "colab": {
      "name": "coding.ipynb",
      "provenance": [],
      "collapsed_sections": [],
      "authorship_tag": "ABX9TyNhP+r1VsTphNugufHwuvOU"
    },
    "kernelspec": {
      "name": "python3",
      "display_name": "Python 3"
    }
  },
  "cells": [
    {
      "cell_type": "markdown",
      "metadata": {
        "id": "MRxLVcJKOkuh"
      },
      "source": [
        "advent of code"
      ]
    },
    {
      "cell_type": "code",
      "metadata": {
        "colab": {
          "base_uri": "https://localhost:8080/"
        },
        "id": "EFAXsYWa6O70",
        "outputId": "0c1b178e-62c9-4da1-f255-091fc55b930d"
      },
      "source": [
        "# input\n",
        "with open(\"input\",'r') as f:\n",
        "    arr = f.read().splitlines()\n",
        "\n",
        "arr= [e.split('=') for e in arr if e != '']\n",
        "# print(arr)\n",
        "\n",
        "'''\n",
        "# part 1\n",
        "mem = [0 for i in range(100000)]\n",
        "mask = None\n",
        "for line_i, line in enumerate(arr):\n",
        "    if line[0] == 'mask ':\n",
        "        mask = line[1][1:]\n",
        "        continue\n",
        "\n",
        "    addr = int(line[0][4:-2])\n",
        "\n",
        "    binary = (bin(int(line[1]))[2:]).zfill(36)\n",
        "    # print(binary)\n",
        "\n",
        "    res = []\n",
        "    # print(len(mask)-len(binary))\n",
        "\n",
        "    for i in range(len(mask)):\n",
        "        if mask[i] == '1':\n",
        "            res.append('1')\n",
        "        elif mask[i] == '0':\n",
        "            res.append('0')\n",
        "        elif mask[i] == 'X':\n",
        "            res.append(binary[i])\n",
        "\n",
        "    mem[addr] = int(\"\".join(res),2)\n",
        "    \n",
        "print(sum(mem))\n",
        "'''\n",
        "\n",
        "mem = {}\n",
        "mask = None\n",
        "for line_i, line in enumerate(arr):\n",
        "    if line[0] == 'mask ':\n",
        "        mask = line[1][1:]\n",
        "        continue\n",
        "\n",
        "    addr = int(line[0][4:-2])\n",
        "    value = int(line[1])\n",
        "    binary = (bin(int(addr))[2:]).zfill(36)\n",
        "    # print(binary)\n",
        "\n",
        "    res = []\n",
        "\n",
        "    x = 0\n",
        "    for i in range(len(mask)):\n",
        "        if mask[i] == '1':\n",
        "            res.append('1')\n",
        "        elif mask[i] == '0':\n",
        "            res.append(binary[i])\n",
        "        elif mask[i] == 'X':\n",
        "            x += 1\n",
        "            res.append('X')\n",
        "\n",
        "    for i in range(2**x):\n",
        "        n = res.copy()\n",
        "        x_bin = (bin(i)[2:]).zfill(x)\n",
        "        # print(x_bin)\n",
        "        x_i = 0\n",
        "        for i in range(len(n)):\n",
        "            if n[i] == 'X':\n",
        "                n[i] = x_bin[x_i]\n",
        "                x_i += 1\n",
        "        # print(\"\".join(n))\n",
        "        # print('addr:', int(\"\".join(n),2))\n",
        "        mem[int(\"\".join(n),2)] = value\n",
        "    \n",
        "res = 0\n",
        "for k,v in mem.items():\n",
        "    res += v\n",
        "\n",
        "print(res)"
      ],
      "execution_count": 3,
      "outputs": [
        {
          "output_type": "stream",
          "text": [
            "4795970362286\n"
          ],
          "name": "stdout"
        }
      ]
    }
  ]
}