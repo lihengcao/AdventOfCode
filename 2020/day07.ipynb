{
  "nbformat": 4,
  "nbformat_minor": 0,
  "metadata": {
    "colab": {
      "name": "coding.ipynb",
      "provenance": [],
      "collapsed_sections": [],
      "authorship_tag": "ABX9TyNNj811ED6Rk08InyHIKGgN"
    },
    "kernelspec": {
      "name": "python3",
      "display_name": "Python 3"
    }
  },
  "cells": [
    {
      "cell_type": "markdown",
      "metadata": {
        "id": "MRxLVcJKOkuh"
      },
      "source": [
        "advent of code"
      ]
    },
    {
      "cell_type": "code",
      "metadata": {
        "id": "fBgWYrd4OURl",
        "colab": {
          "base_uri": "https://localhost:8080/"
        },
        "outputId": "462f5da7-b040-4f25-e7a4-cd4e6eb326f2"
      },
      "source": [
        "with open(\"input\",'r') as f:\n",
        "    arr = f.read().splitlines()\n",
        "\n",
        "d = {}\n",
        "counts = {}\n",
        "s = set(['shiny gold'])\n",
        "times = 0\n",
        "for line_i, line in enumerate(arr):\n",
        "    # i need to learn regex\n",
        "    a = line.replace(' contain ',',')\n",
        "    a = a.replace('.','')\n",
        "    a = a.replace('bags', '')\n",
        "    a = a.replace('bag', '')\n",
        "    a = a.replace('no other','done')\n",
        "    a = [e.strip() for e in a.split(',')]\n",
        "    for i in range(1, len(a)):\n",
        "        if a[1] == 'done':\n",
        "            d[a[0]] = 0\n",
        "        else:\n",
        "            d[a[0]] = a[1:]\n",
        "\n",
        "\n",
        "def count_bags(bname):\n",
        "    name = \"\".join([i for i in bname if not i.isdigit()]).strip()\n",
        "    if type(d[name]) == int:\n",
        "        return d[name]\n",
        "    sum = 0\n",
        "    for e in d[name]:\n",
        "        a = e.split()\n",
        "        n = int(a[0])\n",
        "        a = \"\".join(a[1:])\n",
        "        sum += n+  n * count_bags(e)\n",
        "    d[name] = sum\n",
        "    return sum\n",
        "\n",
        "print(count_bags('shiny gold'))"
      ],
      "execution_count": 96,
      "outputs": [
        {
          "output_type": "stream",
          "text": [
            "89084\n"
          ],
          "name": "stdout"
        }
      ]
    }
  ]
}
