{
  "nbformat": 4,
  "nbformat_minor": 0,
  "metadata": {
    "colab": {
      "name": "coding.ipynb",
      "provenance": [],
      "collapsed_sections": [],
      "authorship_tag": "ABX9TyN/IAbf9tvkmx+dj0aXebaK"
    },
    "kernelspec": {
      "name": "python3",
      "display_name": "Python 3"
    }
  },
  "cells": [
    {
      "cell_type": "markdown",
      "metadata": {
        "id": "MRxLVcJKOkuh"
      },
      "source": [
        "advent of code"
      ]
    },
    {
      "cell_type": "code",
      "metadata": {
        "colab": {
          "base_uri": "https://localhost:8080/"
        },
        "id": "EFAXsYWa6O70",
        "outputId": "6bc9fb74-08c9-4880-8942-1ed28b97864e"
      },
      "source": [
        "# input\n",
        "with open(\"input\",'r') as f:\n",
        "    arr = f.read().splitlines()\n",
        "\n",
        "arr= [int(e) for e in arr if e != '']\n",
        "arr.sort()\n",
        "# arr.insert(0,0)\n",
        "# arr.append(arr[-1]+3)\n",
        "# print(arr)\n",
        "\n",
        "'''\n",
        "three = 1\n",
        "one = 1\n",
        "for i in range(1,len(arr)):\n",
        "    if arr[i] - arr[i-1] == 1:\n",
        "        one += 1\n",
        "    elif arr[i] - arr[i-1] == 3:\n",
        "        three += 1\n",
        "print(one * three)\n",
        "'''\n",
        "\n",
        "# part 2\n",
        "memo = [None for e in arr]\n",
        "memo[-1] = 1\n",
        "\n",
        "def r(index: int) -> int:\n",
        "    if memo[index]: # dp\n",
        "        return memo[index]\n",
        "\n",
        "    res = 0\n",
        "    \n",
        "    i = index + 1\n",
        "    while i < len(arr) and arr[i] - arr[index] <= 3:\n",
        "        res += r(i)\n",
        "        i += 1\n",
        "\n",
        "    memo[index] = res\n",
        "    return res\n",
        "\n",
        "print(r(0))"
      ],
      "execution_count": 98,
      "outputs": [
        {
          "output_type": "stream",
          "text": [
            "129586085429248\n"
          ],
          "name": "stdout"
        }
      ]
    }
  ]
}